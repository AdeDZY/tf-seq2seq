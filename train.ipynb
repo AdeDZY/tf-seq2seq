{
 "cells": [
  {
   "cell_type": "code",
   "execution_count": 1,
   "metadata": {
    "collapsed": false
   },
   "outputs": [],
   "source": [
    "import os\n",
    "import math\n",
    "import time\n",
    "import random\n",
    "import numpy as np\n",
    "import tensorflow as tf"
   ]
  },
  {
   "cell_type": "code",
   "execution_count": 2,
   "metadata": {
    "collapsed": false
   },
   "outputs": [],
   "source": [
    "from data.data_utils import prepare_data\n",
    "from data.data_utils import TextIterator\n",
    "from seq2seq_model import Seq2SeqModel"
   ]
  },
  {
   "cell_type": "code",
   "execution_count": 3,
   "metadata": {
    "collapsed": false
   },
   "outputs": [],
   "source": [
    "# Data loading parameters\n",
    "tf.app.flags.DEFINE_string('source_vocabulary', 'data/en-fr/wmt15_fr-en.train.en.json', 'Path to source vocabulary')\n",
    "tf.app.flags.DEFINE_string('target_vocabulary', 'data/en-fr/wmt15_fr-en.train.fr.json', 'Path to target vocabulary')\n",
    "tf.app.flags.DEFINE_string('source_train_data', 'data/en-fr/wmt15_fr-en.train.en', 'Path to source training data')\n",
    "tf.app.flags.DEFINE_string('target_train_data', 'data/en-fr/wmt15_fr-en.train.fr', 'Path to target training data')\n",
    "tf.app.flags.DEFINE_string('source_valid_data', 'data/en-fr/newstest2013.tok.en', 'Path to source validation data')\n",
    "tf.app.flags.DEFINE_string('target_valid_data', 'data/en-fr/newstest2013.tok.fr', 'Path to target validation data')\n",
    "\n",
    "# Network parameters\n",
    "tf.app.flags.DEFINE_string('cell_type', 'lstm', 'RNN cell to use for encoder and decoder')\n",
    "tf.app.flags.DEFINE_string('attention_type', 'bahdanau', 'Attention mechanism: (bahdanau, luong)')\n",
    "tf.app.flags.DEFINE_integer('hidden_units', 1024, 'Number of hidden units for each layer in the model')\n",
    "tf.app.flags.DEFINE_integer('depth', 4, 'Number of layers for each encoder and decoder')\n",
    "tf.app.flags.DEFINE_integer('embedding_size', 500, 'Embedding dimensions of encoder and decoder inputs')\n",
    "tf.app.flags.DEFINE_integer('num_encoder_symbols', 30000, 'Source vocabulary size')\n",
    "tf.app.flags.DEFINE_integer('num_decoder_symbols', 30000, 'Target vocabulary size')\n",
    "\n",
    "tf.app.flags.DEFINE_boolean('use_residual', True, 'Use residual connection between layers')\n",
    "tf.app.flags.DEFINE_boolean('input_feeding', True, 'Use input feeding method in attentional decoder')\n",
    "tf.app.flags.DEFINE_boolean('use_dropout', True, 'Use dropout in each rnn cell')\n",
    "tf.app.flags.DEFINE_float('dropout_keep_prob', 0.3, 'Dropout keep probability for input/output/state units (1.0: no dropout)')\n",
    "\n",
    "# Training parameters\n",
    "tf.app.flags.DEFINE_float('learning_rate', 0.0002, 'Learning rate')\n",
    "tf.app.flags.DEFINE_float('max_gradient_norm', 1.0, 'Clip gradients to this norm')\n",
    "tf.app.flags.DEFINE_integer('batch_size', 128, 'Batch size to use during training')\n",
    "tf.app.flags.DEFINE_integer('max_epochs', 10, 'Maximum # of training epochs')\n",
    "tf.app.flags.DEFINE_integer('max_load_batches', 20, 'Maximum # of batches to load at one time')\n",
    "tf.app.flags.DEFINE_integer('max_seq_length', 50, 'Maximum sequence length')\n",
    "tf.app.flags.DEFINE_integer('display_freq', 100, 'Display training status every this iteration')\n",
    "tf.app.flags.DEFINE_integer('save_freq', 1000, 'Save model checkpoint every this iteration')\n",
    "tf.app.flags.DEFINE_integer('valid_freq', 1000, 'Evaluate model every this iteration: valid_data needed')\n",
    "tf.app.flags.DEFINE_string('optimizer', 'adam', 'Optimizer for training: (adadelta, adam, rmsprop)')\n",
    "tf.app.flags.DEFINE_string('model_dir', 'model/', 'Path to save model checkpoints')\n",
    "tf.app.flags.DEFINE_string('summary_dir', 'model/summary', 'Path to save model summary')\n",
    "tf.app.flags.DEFINE_string('model_name', 'translate.ckpt', 'File name used for model checkpoints')\n",
    "tf.app.flags.DEFINE_boolean('shuffle_each_epoch', True, 'Shuffle training dataset for each epoch')                            \n",
    "\n",
    "# Runtime parameters\n",
    "tf.app.flags.DEFINE_boolean('use_fp16', False, 'Use half precision float16 instead of float32 as dtype')\n",
    "tf.app.flags.DEFINE_boolean('allow_soft_placement', True, 'Allow device soft placement')\n",
    "tf.app.flags.DEFINE_boolean('log_device_placement', False, 'Log placement of ops on devices')\n",
    "\n",
    "FLAGS = tf.app.flags.FLAGS"
   ]
  },
  {
   "cell_type": "code",
   "execution_count": 4,
   "metadata": {
    "collapsed": true
   },
   "outputs": [],
   "source": [
    "def create_model(session, FLAGS):\n",
    "    model = Seq2SeqModel(FLAGS, 'training')\n",
    "    \n",
    "    ckpt = tf.train.get_checkpoint_state(FLAGS.model_dir)\n",
    "    if ckpt and tf.train.checkpoint_exists(ckpt.model_checkpoint_path):\n",
    "        print 'Reloading model parameters..'\n",
    "        model.restore(session, ckpt.model_checkpoint_path)\n",
    "        \n",
    "    else:\n",
    "        print 'Created new model parameters..'\n",
    "        session.run(tf.global_variables_initializer())\n",
    "        \n",
    "    return model"
   ]
  },
  {
   "cell_type": "code",
   "execution_count": 5,
   "metadata": {
    "collapsed": false,
    "scrolled": false
   },
   "outputs": [
    {
     "name": "stdout",
     "output_type": "stream",
     "text": [
      "loading training data..\n",
      "loading validation data..\n"
     ]
    }
   ],
   "source": [
    "# loading data\n",
    "print 'loading training data..'\n",
    "train_set = TextIterator(source=FLAGS.source_train_data,\n",
    "                         target=FLAGS.target_train_data,\n",
    "                         source_dict=FLAGS.source_vocabulary,\n",
    "                         target_dict=FLAGS.target_vocabulary,\n",
    "                         batch_size=FLAGS.batch_size,\n",
    "                         maxlen=FLAGS.max_seq_length,\n",
    "                         n_words_source=FLAGS.num_encoder_symbols,\n",
    "                         n_words_target=FLAGS.num_decoder_symbols,\n",
    "                         shuffle_each_epoch=FLAGS.shuffle_each_epoch,\n",
    "                         maxibatch_size=FLAGS.max_load_batches)\n",
    "    \n",
    "\n",
    "if FLAGS.source_valid_data and FLAGS.target_valid_data:\n",
    "    print 'loading validation data..'\n",
    "    valid_set = TextIterator(source=FLAGS.source_valid_data,\n",
    "                             target=FLAGS.target_valid_data,\n",
    "                             source_dict=FLAGS.source_vocabulary,\n",
    "                             target_dict=FLAGS.target_vocabulary,\n",
    "                             batch_size=FLAGS.batch_size,\n",
    "                             maxlen=FLAGS.max_seq_length,\n",
    "                             n_words_source=FLAGS.num_encoder_symbols,\n",
    "                             n_words_target=FLAGS.num_decoder_symbols)\n",
    "    \n",
    "else:\n",
    "    valid_set = None"
   ]
  },
  {
   "cell_type": "code",
   "execution_count": 6,
   "metadata": {
    "collapsed": false
   },
   "outputs": [
    {
     "name": "stdout",
     "output_type": "stream",
     "text": [
      "building model..\n",
      "building encoder..\n",
      "building decoder and attention..\n",
      "setting optimizer..\n",
      "Reloading model parameters..\n",
      "INFO:tensorflow:Restoring parameters from /home/pjh/ml_tutorials/tensorflow/tf-nmt/model/translate.ckpt-7000\n",
      "model restored from /home/pjh/ml_tutorials/tensorflow/tf-nmt/model/translate.ckpt-7000\n"
     ]
    },
    {
     "ename": "KeyboardInterrupt",
     "evalue": "",
     "output_type": "error",
     "traceback": [
      "\u001b[1;31m---------------------------------------------------------------------------\u001b[0m",
      "\u001b[1;31mKeyboardInterrupt\u001b[0m                         Traceback (most recent call last)",
      "\u001b[1;32m<ipython-input-6-ea2387123e09>\u001b[0m in \u001b[0;36m<module>\u001b[1;34m()\u001b[0m\n\u001b[0;32m     25\u001b[0m             \u001b[1;31m# Execute a single training step\u001b[0m\u001b[1;33m\u001b[0m\u001b[1;33m\u001b[0m\u001b[0m\n\u001b[0;32m     26\u001b[0m             step_loss = model.train(sess, encoder_inputs=source, encoder_inputs_length=source_len, \n\u001b[1;32m---> 27\u001b[1;33m                                     decoder_inputs=target, decoder_inputs_length=target_len)\n\u001b[0m\u001b[0;32m     28\u001b[0m \u001b[1;33m\u001b[0m\u001b[0m\n\u001b[0;32m     29\u001b[0m             \u001b[0mloss\u001b[0m \u001b[1;33m+=\u001b[0m \u001b[0mfloat\u001b[0m\u001b[1;33m(\u001b[0m\u001b[0mstep_loss\u001b[0m\u001b[1;33m)\u001b[0m \u001b[1;33m/\u001b[0m \u001b[0mFLAGS\u001b[0m\u001b[1;33m.\u001b[0m\u001b[0mdisplay_freq\u001b[0m\u001b[1;33m\u001b[0m\u001b[0m\n",
      "\u001b[1;32m/home/pjh/ml_tutorials/tensorflow/tf-nmt/seq2seq_model.py\u001b[0m in \u001b[0;36mtrain\u001b[1;34m(self, sess, encoder_inputs, encoder_inputs_length, decoder_inputs, decoder_inputs_length)\u001b[0m\n\u001b[0;32m    398\u001b[0m                        self.loss]\t\t# Loss for this batch\n\u001b[0;32m    399\u001b[0m \u001b[1;33m\u001b[0m\u001b[0m\n\u001b[1;32m--> 400\u001b[1;33m         \u001b[0moutputs\u001b[0m \u001b[1;33m=\u001b[0m \u001b[0msess\u001b[0m\u001b[1;33m.\u001b[0m\u001b[0mrun\u001b[0m\u001b[1;33m(\u001b[0m\u001b[0moutput_feed\u001b[0m\u001b[1;33m,\u001b[0m \u001b[0minput_feed\u001b[0m\u001b[1;33m)\u001b[0m\u001b[1;33m\u001b[0m\u001b[0m\n\u001b[0m\u001b[0;32m    401\u001b[0m         \u001b[1;32mreturn\u001b[0m \u001b[0moutputs\u001b[0m\u001b[1;33m[\u001b[0m\u001b[1;36m1\u001b[0m\u001b[1;33m]\u001b[0m                       \u001b[1;31m# loss\u001b[0m\u001b[1;33m\u001b[0m\u001b[0m\n\u001b[0;32m    402\u001b[0m \u001b[1;33m\u001b[0m\u001b[0m\n",
      "\u001b[1;32m/usr/local/lib/python2.7/dist-packages/tensorflow/python/client/session.pyc\u001b[0m in \u001b[0;36mrun\u001b[1;34m(self, fetches, feed_dict, options, run_metadata)\u001b[0m\n\u001b[0;32m    787\u001b[0m     \u001b[1;32mtry\u001b[0m\u001b[1;33m:\u001b[0m\u001b[1;33m\u001b[0m\u001b[0m\n\u001b[0;32m    788\u001b[0m       result = self._run(None, fetches, feed_dict, options_ptr,\n\u001b[1;32m--> 789\u001b[1;33m                          run_metadata_ptr)\n\u001b[0m\u001b[0;32m    790\u001b[0m       \u001b[1;32mif\u001b[0m \u001b[0mrun_metadata\u001b[0m\u001b[1;33m:\u001b[0m\u001b[1;33m\u001b[0m\u001b[0m\n\u001b[0;32m    791\u001b[0m         \u001b[0mproto_data\u001b[0m \u001b[1;33m=\u001b[0m \u001b[0mtf_session\u001b[0m\u001b[1;33m.\u001b[0m\u001b[0mTF_GetBuffer\u001b[0m\u001b[1;33m(\u001b[0m\u001b[0mrun_metadata_ptr\u001b[0m\u001b[1;33m)\u001b[0m\u001b[1;33m\u001b[0m\u001b[0m\n",
      "\u001b[1;32m/usr/local/lib/python2.7/dist-packages/tensorflow/python/client/session.pyc\u001b[0m in \u001b[0;36m_run\u001b[1;34m(self, handle, fetches, feed_dict, options, run_metadata)\u001b[0m\n\u001b[0;32m    995\u001b[0m     \u001b[1;32mif\u001b[0m \u001b[0mfinal_fetches\u001b[0m \u001b[1;32mor\u001b[0m \u001b[0mfinal_targets\u001b[0m\u001b[1;33m:\u001b[0m\u001b[1;33m\u001b[0m\u001b[0m\n\u001b[0;32m    996\u001b[0m       results = self._do_run(handle, final_targets, final_fetches,\n\u001b[1;32m--> 997\u001b[1;33m                              feed_dict_string, options, run_metadata)\n\u001b[0m\u001b[0;32m    998\u001b[0m     \u001b[1;32melse\u001b[0m\u001b[1;33m:\u001b[0m\u001b[1;33m\u001b[0m\u001b[0m\n\u001b[0;32m    999\u001b[0m       \u001b[0mresults\u001b[0m \u001b[1;33m=\u001b[0m \u001b[1;33m[\u001b[0m\u001b[1;33m]\u001b[0m\u001b[1;33m\u001b[0m\u001b[0m\n",
      "\u001b[1;32m/usr/local/lib/python2.7/dist-packages/tensorflow/python/client/session.pyc\u001b[0m in \u001b[0;36m_do_run\u001b[1;34m(self, handle, target_list, fetch_list, feed_dict, options, run_metadata)\u001b[0m\n\u001b[0;32m   1130\u001b[0m     \u001b[1;32mif\u001b[0m \u001b[0mhandle\u001b[0m \u001b[1;32mis\u001b[0m \u001b[0mNone\u001b[0m\u001b[1;33m:\u001b[0m\u001b[1;33m\u001b[0m\u001b[0m\n\u001b[0;32m   1131\u001b[0m       return self._do_call(_run_fn, self._session, feed_dict, fetch_list,\n\u001b[1;32m-> 1132\u001b[1;33m                            target_list, options, run_metadata)\n\u001b[0m\u001b[0;32m   1133\u001b[0m     \u001b[1;32melse\u001b[0m\u001b[1;33m:\u001b[0m\u001b[1;33m\u001b[0m\u001b[0m\n\u001b[0;32m   1134\u001b[0m       return self._do_call(_prun_fn, self._session, handle, feed_dict,\n",
      "\u001b[1;32m/usr/local/lib/python2.7/dist-packages/tensorflow/python/client/session.pyc\u001b[0m in \u001b[0;36m_do_call\u001b[1;34m(self, fn, *args)\u001b[0m\n\u001b[0;32m   1137\u001b[0m   \u001b[1;32mdef\u001b[0m \u001b[0m_do_call\u001b[0m\u001b[1;33m(\u001b[0m\u001b[0mself\u001b[0m\u001b[1;33m,\u001b[0m \u001b[0mfn\u001b[0m\u001b[1;33m,\u001b[0m \u001b[1;33m*\u001b[0m\u001b[0margs\u001b[0m\u001b[1;33m)\u001b[0m\u001b[1;33m:\u001b[0m\u001b[1;33m\u001b[0m\u001b[0m\n\u001b[0;32m   1138\u001b[0m     \u001b[1;32mtry\u001b[0m\u001b[1;33m:\u001b[0m\u001b[1;33m\u001b[0m\u001b[0m\n\u001b[1;32m-> 1139\u001b[1;33m       \u001b[1;32mreturn\u001b[0m \u001b[0mfn\u001b[0m\u001b[1;33m(\u001b[0m\u001b[1;33m*\u001b[0m\u001b[0margs\u001b[0m\u001b[1;33m)\u001b[0m\u001b[1;33m\u001b[0m\u001b[0m\n\u001b[0m\u001b[0;32m   1140\u001b[0m     \u001b[1;32mexcept\u001b[0m \u001b[0merrors\u001b[0m\u001b[1;33m.\u001b[0m\u001b[0mOpError\u001b[0m \u001b[1;32mas\u001b[0m \u001b[0me\u001b[0m\u001b[1;33m:\u001b[0m\u001b[1;33m\u001b[0m\u001b[0m\n\u001b[0;32m   1141\u001b[0m       \u001b[0mmessage\u001b[0m \u001b[1;33m=\u001b[0m \u001b[0mcompat\u001b[0m\u001b[1;33m.\u001b[0m\u001b[0mas_text\u001b[0m\u001b[1;33m(\u001b[0m\u001b[0me\u001b[0m\u001b[1;33m.\u001b[0m\u001b[0mmessage\u001b[0m\u001b[1;33m)\u001b[0m\u001b[1;33m\u001b[0m\u001b[0m\n",
      "\u001b[1;32m/usr/local/lib/python2.7/dist-packages/tensorflow/python/client/session.pyc\u001b[0m in \u001b[0;36m_run_fn\u001b[1;34m(session, feed_dict, fetch_list, target_list, options, run_metadata)\u001b[0m\n\u001b[0;32m   1119\u001b[0m         return tf_session.TF_Run(session, options,\n\u001b[0;32m   1120\u001b[0m                                  \u001b[0mfeed_dict\u001b[0m\u001b[1;33m,\u001b[0m \u001b[0mfetch_list\u001b[0m\u001b[1;33m,\u001b[0m \u001b[0mtarget_list\u001b[0m\u001b[1;33m,\u001b[0m\u001b[1;33m\u001b[0m\u001b[0m\n\u001b[1;32m-> 1121\u001b[1;33m                                  status, run_metadata)\n\u001b[0m\u001b[0;32m   1122\u001b[0m \u001b[1;33m\u001b[0m\u001b[0m\n\u001b[0;32m   1123\u001b[0m     \u001b[1;32mdef\u001b[0m \u001b[0m_prun_fn\u001b[0m\u001b[1;33m(\u001b[0m\u001b[0msession\u001b[0m\u001b[1;33m,\u001b[0m \u001b[0mhandle\u001b[0m\u001b[1;33m,\u001b[0m \u001b[0mfeed_dict\u001b[0m\u001b[1;33m,\u001b[0m \u001b[0mfetch_list\u001b[0m\u001b[1;33m)\u001b[0m\u001b[1;33m:\u001b[0m\u001b[1;33m\u001b[0m\u001b[0m\n",
      "\u001b[1;31mKeyboardInterrupt\u001b[0m: "
     ]
    }
   ],
   "source": [
    "with tf.Session(config=tf.ConfigProto(allow_soft_placement=FLAGS.allow_soft_placement, \n",
    "    log_device_placement=FLAGS.log_device_placement, gpu_options=tf.GPUOptions(allow_growth=True))) as sess:\n",
    "    \n",
    "    # Create a new model or reload existing checkpoint\n",
    "    model = create_model(sess, FLAGS)\n",
    "    \n",
    "    step_time, loss = 0.0, 0.0\n",
    "    words_seen, sents_seen = 0, 0\n",
    "    start_time = time.time()\n",
    "    \n",
    "    # Starts training loop\n",
    "    for epoch_idx in xrange(FLAGS.max_epochs):\n",
    "        if model.global_epoch_step.eval() >= FLAGS.max_epochs:\n",
    "            print 'Training is already complete.' \\\n",
    "                  'current epoch:{}, max epoch:{}'.format(model.global_epoch_step.eval(), FLAGS.max_epochs)\n",
    "            break\n",
    "        \n",
    "        for source_seq, target_seq in train_set:    \n",
    "            # Get a batch from training data\n",
    "            source, source_len, target, target_len = prepare_data(source_seq, target_seq, \n",
    "                                                                  maxlen=FLAGS.max_seq_length)\n",
    "            if source is None:\n",
    "                print 'No samples under max_seq_length ', FLAGS.max_seq_length\n",
    "                continue\n",
    "                \n",
    "            # Execute a single training step\n",
    "            step_loss = model.train(sess, encoder_inputs=source, encoder_inputs_length=source_len, \n",
    "                                    decoder_inputs=target, decoder_inputs_length=target_len)\n",
    "            \n",
    "            loss += float(step_loss) / FLAGS.display_freq\n",
    "            words_seen += float(np.sum(source_len+target_len))\n",
    "            sents_seen += float(source.shape[0]) # batch_size\n",
    "            \n",
    "            if model.global_step.eval() % FLAGS.display_freq == 0:\n",
    "                \n",
    "                avg_perplexity = math.exp(float(loss)) if loss < 300 else float(\"inf\")\n",
    "                \n",
    "                time_elapsed = time.time() - start_time\n",
    "                step_time = time_elapsed / FLAGS.display_freq\n",
    "                \n",
    "                words_per_sec = words_seen / time_elapsed\n",
    "                sents_per_sec = sents_seen / time_elapsed\n",
    "                \n",
    "                print 'Epoch ', model.global_epoch_step.eval(), 'Step ', model.global_step.eval(), \\\n",
    "                      'Perplexity {0:.2f}'.format(avg_perplexity), 'Step-time ', step_time, \\\n",
    "                      '{0:.2f} sents/s'.format(sents_per_sec), '{0:.2f} words/s'.format(words_per_sec)\n",
    "                \n",
    "                loss = 0\n",
    "                words_seen = 0\n",
    "                sents_seen = 0\n",
    "                start_time = time.time()\n",
    "            \n",
    "            # Execute a validation step\n",
    "            if valid_set and model.global_step.eval() % FLAGS.valid_freq == 0:\n",
    "                print 'validation step'\n",
    "                valid_loss = 0.0\n",
    "                valid_sents_seen = 0\n",
    "                for source_seq, target_seq in valid_set:\n",
    "                    # Get a batch from validation data\n",
    "                    source, source_len, target, target_len = prepare_data(source_seq, target_seq)\n",
    "                    \n",
    "                    # Compute validation loss: average per word cross entropy loss\n",
    "                    step_loss = model.eval(sess, encoder_inputs=source, encoder_inputs_length=source_len,\n",
    "                                           decoder_inputs=target, decoder_inputs_length=target_len)\n",
    "                    batch_size = source.shape[0]\n",
    "                    \n",
    "                    valid_loss += step_loss * batch_size\n",
    "                    valid_sents_seen += batch_size\n",
    "                    print '  {} samples seen'.format(valid_sents_seen)\n",
    "                \n",
    "                valid_loss = valid_loss / valid_sents_seen\n",
    "                print 'samples {}'.format(valid_sents_seen)\n",
    "                print 'valid perplexity: {0:.2f}'.format(math.exp(valid_loss))\n",
    "\n",
    "            # Save the model checkpoint\n",
    "            if model.global_step.eval() % FLAGS.save_freq == 0:\n",
    "                print 'saving the model..'\n",
    "                checkpoint_path = os.path.join(FLAGS.model_dir, FLAGS.model_name)\n",
    "                model.save(sess, checkpoint_path, global_step=model.global_step)\n",
    "        \n",
    "        # Increase the epoch index of the model\n",
    "        model.global_epoch_step_op.eval()\n",
    "        print 'Epoch {0:} DONE'.format(model.global_epoch_step.eval())"
   ]
  },
  {
   "cell_type": "code",
   "execution_count": null,
   "metadata": {
    "collapsed": false
   },
   "outputs": [],
   "source": []
  },
  {
   "cell_type": "code",
   "execution_count": null,
   "metadata": {
    "collapsed": true
   },
   "outputs": [],
   "source": []
  }
 ],
 "metadata": {
  "kernelspec": {
   "display_name": "Python 2",
   "language": "python",
   "name": "python2"
  },
  "language_info": {
   "codemirror_mode": {
    "name": "ipython",
    "version": 2
   },
   "file_extension": ".py",
   "mimetype": "text/x-python",
   "name": "python",
   "nbconvert_exporter": "python",
   "pygments_lexer": "ipython2",
   "version": "2.7.10"
  }
 },
 "nbformat": 4,
 "nbformat_minor": 0
}
